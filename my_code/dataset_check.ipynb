{
 "cells": [
  {
   "cell_type": "code",
   "execution_count": 1,
   "metadata": {},
   "outputs": [],
   "source": [
    "from mmpose.datasets.datasets.body import Mo2Cap2CocoDataset\n",
    "from mmengine import Config\n",
    "from mmengine import build_from_cfg, is_seq_of\n",
    "from mmpose.registry import DATASETS\n",
    "from mmpose.datasets.transforms.bottomup_transforms import (BottomupGetHeatmapMask, BottomupRandomAffine,\n",
    "                                  BottomupRandomChoiceResize,\n",
    "                                  BottomupRandomCrop, BottomupResize)\n",
    "from mmpose.datasets.transforms.common_transforms import (Albumentation, FilterAnnotations,\n",
    "                                GenerateTarget, GetBBoxCenterScale,\n",
    "                                PhotometricDistortion, RandomBBoxTransform,\n",
    "                                RandomFlip, RandomHalfBody, YOLOXHSVRandomAug)\n",
    "\n",
    "from mmpose.datasets.transforms.custom_transforms import EgoposeFilterAnnotations,FisheyeCropTransform\n",
    "\n",
    "from mmpose.datasets.transforms.converting import KeypointConverter, SingleHandConverter\n",
    "from mmpose.datasets.transforms.formatting import PackPoseInputs\n",
    "from mmpose.datasets.transforms.hand_transforms import HandRandomFlip\n",
    "from mmpose.datasets.transforms.loading import LoadImage\n",
    "from mmpose.datasets.transforms.mix_img_transforms import Mosaic, YOLOXMixUp\n",
    "from mmpose.datasets.transforms.pose3d_transforms import RandomFlipAroundRoot\n",
    "from mmpose.datasets.transforms.topdown_transforms import TopdownAffine\n",
    "from torch.utils.data import DataLoader\n",
    "\n",
    "cfg = Config.fromfile(\n",
    "\tr'C:\\Users\\user\\Documents\\GitHub\\mmpose\\my_code\\custom_config\\HMD_mo2cap2_imple_config.py'\n",
    ")"
   ]
  },
  {
   "cell_type": "code",
   "execution_count": 2,
   "metadata": {},
   "outputs": [
    {
     "data": {
      "text/plain": [
       "{'type': 'Mo2Cap2CocoDataset',\n",
       " 'data_root': 'F:\\\\mo2cap2_data_half\\\\TrainSet',\n",
       " 'data_mode': 'topdown',\n",
       " 'filter_cfg': {'filter_empty_gt': False, 'min_size': 32},\n",
       " 'pipeline': [{'type': 'LoadImage'},\n",
       "  {'type': 'GetBBoxCenterScale', 'padding': 1.0},\n",
       "  {'type': 'TopdownAffine', 'input_size': (256, 256)},\n",
       "  {'type': 'GenerateTarget',\n",
       "   'encoder': {'type': 'Custom_mo2cap2_MSRAHeatmap',\n",
       "    'input_size': (256, 256),\n",
       "    'heatmap_size': (47, 47),\n",
       "    'sigma': 2}},\n",
       "  {'type': 'PackPoseInputs'}]}"
      ]
     },
     "execution_count": 2,
     "metadata": {},
     "output_type": "execute_result"
    }
   ],
   "source": [
    "cfg.train_dataloader\n",
    "cfg.dataset_mo2cap2_train"
   ]
  },
  {
   "cell_type": "code",
   "execution_count": 3,
   "metadata": {},
   "outputs": [],
   "source": [
    "\n",
    "codec = dict(\n",
    "\ttype='Custom_mo2cap2_MSRAHeatmap', input_size=(256, 256), heatmap_size=(47, 47), sigma=2)\n",
    "\n",
    "# data\n",
    "dataset_type = 'Mo2Cap2CocoDataset'\n",
    "data_mode = 'topdown'\n",
    "# data_root = r'C:\\Users\\user\\Documents\\GitHub\\mmpose\\data'\n",
    "\n",
    "# ---\n",
    "# # mo2cap2 dataset temp\n",
    "# ann_file_val = r'F:\\mo2cap2_data_temp_extracted\\TestSet'\n",
    "# ann_file_train = r'F:\\mo2cap2_data_temp_extracted\\TrainSet'\n",
    "# ---\n",
    "# # ## mo2cap2 dataset small, test small\n",
    "# ann_file_test = r'F:\\mo2cap2_data_small\\TestSet'\n",
    "# ann_file_val = r'F:\\mo2cap2_data_small\\ValSet'\n",
    "# ann_file_train = r'F:\\mo2cap2_data_small\\TrainSet'\n",
    "# ---\n",
    "# mo2cap2 dataset train middel, test all\n",
    "ann_file_test = r'F:\\mo2cap2_data_half\\TestSet'\n",
    "ann_file_val = r'F:\\mo2cap2_data_half\\ValSet'\n",
    "ann_file_train = r'F:\\mo2cap2_data_half\\TrainSet'\n",
    "# ---\n",
    "# # mo2cap2 dataset train all, test all\n",
    "# ann_file_val = r'F:\\extracted_mo2cap2_dataset\\TestSet'\n",
    "# ann_file_train = r'F:\\extracted_mo2cap2_dataset\\TrainSet'\n",
    "\n",
    "####\n",
    "# ann_file_test = r'F:\\mo2cap2_one_data\\TestSet'\n",
    "# ann_file_val = r'F:\\mo2cap2_one_data\\ValSet'\n",
    "# ann_file_train = r'F:\\mo2cap2_one_data\\TrainSet'\n",
    "###\n",
    "\n",
    "# ann_file_test = r'D:\\cross_plat\\mo2cap2_data_half\\TestSet'\n",
    "# ann_file_val = r'D:\\cross_plat\\mo2cap2_data_half\\ValSet'\n",
    "# ann_file_train = r'D:\\cross_plat\\mo2cap2_data_half\\TrainSet'\n",
    "\n",
    "\n",
    "train_pipeline = [\n",
    "\tLoadImage(),\n",
    "\tGetBBoxCenterScale(padding=1.),\n",
    "\t# dict(type='RandomFlip', direction='horizontal'), # 3d keypoints도 플립시켜야됨.\n",
    "\t# # dict(type='RandomHalfBody'),\n",
    "\t# # dict(type='RandomBBoxTransform'),\n",
    "\tTopdownAffine(input_size=codec['input_size']),\n",
    "\tGenerateTarget(encoder=codec),\n",
    "\tPackPoseInputs,\n",
    "]\n",
    "\n",
    "val_pipeline = [\n",
    "\tLoadImage(),\n",
    "\tGetBBoxCenterScale(padding=1.),\n",
    "\tTopdownAffine(input_size=codec['input_size']),\n",
    "\tGenerateTarget(encoder=codec),\n",
    "\tPackPoseInputs,\n",
    "]\n",
    "\n",
    "dataset_mo2cap2_train = dict(\n",
    "\t# type=dataset_type,\n",
    "\tdata_root=ann_file_train,\n",
    "\tdata_mode=data_mode,\n",
    "\tfilter_cfg=dict(filter_empty_gt=False, min_size=32),\n",
    "\tpipeline=train_pipeline,\n",
    ")\n",
    "\n",
    "dataset_mo2cap2_val = dict(\n",
    "\t# type=dataset_type,\n",
    "\tdata_root=ann_file_test,\n",
    "\tdata_mode=data_mode,\n",
    "\tfilter_cfg=dict(filter_empty_gt=False, min_size=32),\n",
    "\t# ann_file=ann_file_val,\n",
    "\t# data_prefix=dict(img=r'C:\\Users\\user\\Documents\\GitHub\\mmpose\\data\\coco\\train2017'),\n",
    "\tpipeline=val_pipeline,\n",
    "\ttest_mode = True,\n",
    ")"
   ]
  },
  {
   "cell_type": "code",
   "execution_count": 9,
   "metadata": {},
   "outputs": [],
   "source": [
    "train_dataset = Mo2Cap2CocoDataset(**dataset_mo2cap2_train)\n",
    "val_dataset = Mo2Cap2CocoDataset(**dataset_mo2cap2_val)"
   ]
  },
  {
   "cell_type": "code",
   "execution_count": 8,
   "metadata": {},
   "outputs": [
    {
     "data": {
      "text/plain": [
       "5585"
      ]
     },
     "execution_count": 8,
     "metadata": {},
     "output_type": "execute_result"
    }
   ],
   "source": [
    "len(val_dataset)"
   ]
  },
  {
   "cell_type": "code",
   "execution_count": null,
   "metadata": {},
   "outputs": [],
   "source": []
  }
 ],
 "metadata": {
  "kernelspec": {
   "display_name": "mm",
   "language": "python",
   "name": "python3"
  },
  "language_info": {
   "codemirror_mode": {
    "name": "ipython",
    "version": 3
   },
   "file_extension": ".py",
   "mimetype": "text/x-python",
   "name": "python",
   "nbconvert_exporter": "python",
   "pygments_lexer": "ipython3",
   "version": "3.8.13"
  }
 },
 "nbformat": 4,
 "nbformat_minor": 2
}
