{
 "cells": [
  {
   "cell_type": "code",
   "execution_count": 1,
   "metadata": {},
   "outputs": [],
   "source": [
    "import os\n",
    "import h5py\n",
    "import numpy as np"
   ]
  },
  {
   "cell_type": "code",
   "execution_count": 3,
   "metadata": {},
   "outputs": [],
   "source": [
    "def read_h5(path):\n",
    "\tif not os.path.isfile(path):\n",
    "\t\traise FileNotFoundError()\n",
    "\n",
    "\tdata_files = dict()\n",
    "\th5_data = h5py.File(path)\n",
    "\ttags = list(h5_data.keys())\n",
    "\tfor tag in tags:\n",
    "\t\ttag_data = np.asarray(h5_data[tag]).copy()\n",
    "\t\tdata_files.update({tag: tag_data})\n",
    "\th5_data.close()\n",
    "\n",
    "\treturn data_files"
   ]
  },
  {
   "cell_type": "code",
   "execution_count": 4,
   "metadata": {},
   "outputs": [],
   "source": [
    "good_index = r'F:\\index_local_half.h5'\n",
    "bad_index = r'F:\\index_remote_half.h5'"
   ]
  },
  {
   "cell_type": "code",
   "execution_count": 7,
   "metadata": {},
   "outputs": [],
   "source": [
    "good_one=read_h5(good_index)"
   ]
  },
  {
   "cell_type": "code",
   "execution_count": 17,
   "metadata": {},
   "outputs": [
    {
     "name": "stdout",
     "output_type": "stream",
     "text": [
      "32000 32000\n",
      "[b'F:\\\\mo2cap2_data_half\\\\TrainSet\\\\mo2cap2_chunk_0001\\\\json\\\\mo2cap2_chunk_0001_000000.json'\n",
      " b'F:\\\\mo2cap2_data_half\\\\TrainSet\\\\mo2cap2_chunk_0001\\\\json\\\\mo2cap2_chunk_0001_000001.json'\n",
      " b'F:\\\\mo2cap2_data_half\\\\TrainSet\\\\mo2cap2_chunk_0001\\\\json\\\\mo2cap2_chunk_0001_000002.json'\n",
      " b'F:\\\\mo2cap2_data_half\\\\TrainSet\\\\mo2cap2_chunk_0001\\\\json\\\\mo2cap2_chunk_0001_000003.json'\n",
      " b'F:\\\\mo2cap2_data_half\\\\TrainSet\\\\mo2cap2_chunk_0001\\\\json\\\\mo2cap2_chunk_0001_000004.json'\n",
      " b'F:\\\\mo2cap2_data_half\\\\TrainSet\\\\mo2cap2_chunk_0001\\\\json\\\\mo2cap2_chunk_0001_000005.json'\n",
      " b'F:\\\\mo2cap2_data_half\\\\TrainSet\\\\mo2cap2_chunk_0001\\\\json\\\\mo2cap2_chunk_0001_000006.json'\n",
      " b'F:\\\\mo2cap2_data_half\\\\TrainSet\\\\mo2cap2_chunk_0001\\\\json\\\\mo2cap2_chunk_0001_000007.json'\n",
      " b'F:\\\\mo2cap2_data_half\\\\TrainSet\\\\mo2cap2_chunk_0001\\\\json\\\\mo2cap2_chunk_0001_000008.json'\n",
      " b'F:\\\\mo2cap2_data_half\\\\TrainSet\\\\mo2cap2_chunk_0001\\\\json\\\\mo2cap2_chunk_0001_000009.json']\n",
      "[b'F:\\\\mo2cap2_data_half\\\\TrainSet\\\\mo2cap2_chunk_0001\\\\rgba\\\\mo2cap2_chunk_0001_000000.png'\n",
      " b'F:\\\\mo2cap2_data_half\\\\TrainSet\\\\mo2cap2_chunk_0001\\\\rgba\\\\mo2cap2_chunk_0001_000001.png'\n",
      " b'F:\\\\mo2cap2_data_half\\\\TrainSet\\\\mo2cap2_chunk_0001\\\\rgba\\\\mo2cap2_chunk_0001_000002.png'\n",
      " b'F:\\\\mo2cap2_data_half\\\\TrainSet\\\\mo2cap2_chunk_0001\\\\rgba\\\\mo2cap2_chunk_0001_000003.png'\n",
      " b'F:\\\\mo2cap2_data_half\\\\TrainSet\\\\mo2cap2_chunk_0001\\\\rgba\\\\mo2cap2_chunk_0001_000004.png'\n",
      " b'F:\\\\mo2cap2_data_half\\\\TrainSet\\\\mo2cap2_chunk_0001\\\\rgba\\\\mo2cap2_chunk_0001_000005.png'\n",
      " b'F:\\\\mo2cap2_data_half\\\\TrainSet\\\\mo2cap2_chunk_0001\\\\rgba\\\\mo2cap2_chunk_0001_000006.png'\n",
      " b'F:\\\\mo2cap2_data_half\\\\TrainSet\\\\mo2cap2_chunk_0001\\\\rgba\\\\mo2cap2_chunk_0001_000007.png'\n",
      " b'F:\\\\mo2cap2_data_half\\\\TrainSet\\\\mo2cap2_chunk_0001\\\\rgba\\\\mo2cap2_chunk_0001_000008.png'\n",
      " b'F:\\\\mo2cap2_data_half\\\\TrainSet\\\\mo2cap2_chunk_0001\\\\rgba\\\\mo2cap2_chunk_0001_000009.png']\n"
     ]
    },
    {
     "ename": "",
     "evalue": "",
     "output_type": "error",
     "traceback": [
      "\u001b[1;31mThe Kernel crashed while executing code in the current cell or a previous cell. \n",
      "\u001b[1;31mPlease review the code in the cell(s) to identify a possible cause of the failure. \n",
      "\u001b[1;31mClick <a href='https://aka.ms/vscodeJupyterKernelCrash'>here</a> for more info. \n",
      "\u001b[1;31mView Jupyter <a href='command:jupyter.viewOutput'>log</a> for further details."
     ]
    }
   ],
   "source": [
    "print(len(good_one['frame_data']),len(good_one['rgba']))\n",
    "print((good_one['frame_data'][:10]))\n",
    "print((good_one['rgba'][:10]))"
   ]
  },
  {
   "cell_type": "code",
   "execution_count": 8,
   "metadata": {},
   "outputs": [],
   "source": [
    "bad_one=read_h5(bad_index)"
   ]
  },
  {
   "cell_type": "code",
   "execution_count": 16,
   "metadata": {},
   "outputs": [
    {
     "name": "stdout",
     "output_type": "stream",
     "text": [
      "32000 32000\n",
      "[b'D:\\\\cross_plat\\\\mo2cap2_data_half\\\\TrainSet\\\\mo2cap2_chunk_0030\\\\json\\\\mo2cap2_chunk_0030_000049.json'\n",
      " b'D:\\\\cross_plat\\\\mo2cap2_data_half\\\\TrainSet\\\\mo2cap2_chunk_0030\\\\json\\\\mo2cap2_chunk_0030_000874.json'\n",
      " b'D:\\\\cross_plat\\\\mo2cap2_data_half\\\\TrainSet\\\\mo2cap2_chunk_0030\\\\json\\\\mo2cap2_chunk_0030_000575.json'\n",
      " b'D:\\\\cross_plat\\\\mo2cap2_data_half\\\\TrainSet\\\\mo2cap2_chunk_0030\\\\json\\\\mo2cap2_chunk_0030_000697.json'\n",
      " b'D:\\\\cross_plat\\\\mo2cap2_data_half\\\\TrainSet\\\\mo2cap2_chunk_0030\\\\json\\\\mo2cap2_chunk_0030_000358.json'\n",
      " b'D:\\\\cross_plat\\\\mo2cap2_data_half\\\\TrainSet\\\\mo2cap2_chunk_0030\\\\json\\\\mo2cap2_chunk_0030_000154.json'\n",
      " b'D:\\\\cross_plat\\\\mo2cap2_data_half\\\\TrainSet\\\\mo2cap2_chunk_0030\\\\json\\\\mo2cap2_chunk_0030_000944.json'\n",
      " b'D:\\\\cross_plat\\\\mo2cap2_data_half\\\\TrainSet\\\\mo2cap2_chunk_0030\\\\json\\\\mo2cap2_chunk_0030_000870.json'\n",
      " b'D:\\\\cross_plat\\\\mo2cap2_data_half\\\\TrainSet\\\\mo2cap2_chunk_0030\\\\json\\\\mo2cap2_chunk_0030_000208.json'\n",
      " b'D:\\\\cross_plat\\\\mo2cap2_data_half\\\\TrainSet\\\\mo2cap2_chunk_0030\\\\json\\\\mo2cap2_chunk_0030_000220.json']\n",
      "[b'D:\\\\cross_plat\\\\mo2cap2_data_half\\\\TrainSet\\\\mo2cap2_chunk_0030\\\\rgba\\\\mo2cap2_chunk_0030_000183.png'\n",
      " b'D:\\\\cross_plat\\\\mo2cap2_data_half\\\\TrainSet\\\\mo2cap2_chunk_0030\\\\rgba\\\\mo2cap2_chunk_0030_000539.png'\n",
      " b'D:\\\\cross_plat\\\\mo2cap2_data_half\\\\TrainSet\\\\mo2cap2_chunk_0030\\\\rgba\\\\mo2cap2_chunk_0030_000421.png'\n",
      " b'D:\\\\cross_plat\\\\mo2cap2_data_half\\\\TrainSet\\\\mo2cap2_chunk_0030\\\\rgba\\\\mo2cap2_chunk_0030_000887.png'\n",
      " b'D:\\\\cross_plat\\\\mo2cap2_data_half\\\\TrainSet\\\\mo2cap2_chunk_0030\\\\rgba\\\\mo2cap2_chunk_0030_000244.png'\n",
      " b'D:\\\\cross_plat\\\\mo2cap2_data_half\\\\TrainSet\\\\mo2cap2_chunk_0030\\\\rgba\\\\mo2cap2_chunk_0030_000980.png'\n",
      " b'D:\\\\cross_plat\\\\mo2cap2_data_half\\\\TrainSet\\\\mo2cap2_chunk_0030\\\\rgba\\\\mo2cap2_chunk_0030_000823.png'\n",
      " b'D:\\\\cross_plat\\\\mo2cap2_data_half\\\\TrainSet\\\\mo2cap2_chunk_0030\\\\rgba\\\\mo2cap2_chunk_0030_000341.png'\n",
      " b'D:\\\\cross_plat\\\\mo2cap2_data_half\\\\TrainSet\\\\mo2cap2_chunk_0030\\\\rgba\\\\mo2cap2_chunk_0030_000907.png'\n",
      " b'D:\\\\cross_plat\\\\mo2cap2_data_half\\\\TrainSet\\\\mo2cap2_chunk_0030\\\\rgba\\\\mo2cap2_chunk_0030_000610.png']\n"
     ]
    }
   ],
   "source": [
    "print(len(bad_one['frame_data']),len(bad_one['rgba']))\n",
    "print((bad_one['frame_data'][:10]))\n",
    "print((bad_one['rgba'][:10]))"
   ]
  }
 ],
 "metadata": {
  "kernelspec": {
   "display_name": "mm",
   "language": "python",
   "name": "python3"
  },
  "language_info": {
   "codemirror_mode": {
    "name": "ipython",
    "version": 3
   },
   "file_extension": ".py",
   "mimetype": "text/x-python",
   "name": "python",
   "nbconvert_exporter": "python",
   "pygments_lexer": "ipython3",
   "version": "3.8.13"
  }
 },
 "nbformat": 4,
 "nbformat_minor": 2
}
